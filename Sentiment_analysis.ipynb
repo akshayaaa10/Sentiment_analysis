{
 "cells": [
  {
   "cell_type": "markdown",
   "id": "4f0c4c1b",
   "metadata": {},
   "source": [
    "# 1. Install and Import Dependencies\n"
   ]
  },
  {
   "cell_type": "code",
   "execution_count": 3,
   "id": "0f4151ac",
   "metadata": {},
   "outputs": [
    {
     "name": "stdout",
     "output_type": "stream",
     "text": [
      "Looking in indexes: https://download.pytorch.org/whl/cu117\n",
      "Requirement already satisfied: torch in d:\\akshaya\\annnnacoonda\\lib\\site-packages (2.0.1+cu117)\n",
      "Requirement already satisfied: torchvision in d:\\akshaya\\annnnacoonda\\lib\\site-packages (0.15.2+cu117)\n",
      "Requirement already satisfied: torchaudio in d:\\akshaya\\annnnacoonda\\lib\\site-packages (2.0.2+cu117)\n",
      "Requirement already satisfied: typing-extensions in d:\\akshaya\\annnnacoonda\\lib\\site-packages (from torch) (4.1.1)\n",
      "Requirement already satisfied: jinja2 in d:\\akshaya\\annnnacoonda\\lib\\site-packages (from torch) (2.11.3)\n",
      "Requirement already satisfied: networkx in d:\\akshaya\\annnnacoonda\\lib\\site-packages (from torch) (2.7.1)\n",
      "Requirement already satisfied: filelock in d:\\akshaya\\annnnacoonda\\lib\\site-packages (from torch) (3.6.0)\n",
      "Requirement already satisfied: sympy in d:\\akshaya\\annnnacoonda\\lib\\site-packages (from torch) (1.10.1)\n",
      "Requirement already satisfied: requests in d:\\akshaya\\annnnacoonda\\lib\\site-packages (from torchvision) (2.27.1)\n",
      "Requirement already satisfied: numpy in d:\\akshaya\\annnnacoonda\\lib\\site-packages (from torchvision) (1.21.5)\n",
      "Requirement already satisfied: pillow!=8.3.*,>=5.3.0 in d:\\akshaya\\annnnacoonda\\lib\\site-packages (from torchvision) (9.0.1)\n",
      "Requirement already satisfied: MarkupSafe>=0.23 in d:\\akshaya\\annnnacoonda\\lib\\site-packages (from jinja2->torch) (2.0.1)\n",
      "Requirement already satisfied: idna<4,>=2.5 in d:\\akshaya\\annnnacoonda\\lib\\site-packages (from requests->torchvision) (3.3)\n",
      "Requirement already satisfied: certifi>=2017.4.17 in d:\\akshaya\\annnnacoonda\\lib\\site-packages (from requests->torchvision) (2021.10.8)\n",
      "Requirement already satisfied: urllib3<1.27,>=1.21.1 in d:\\akshaya\\annnnacoonda\\lib\\site-packages (from requests->torchvision) (1.26.9)\n",
      "Requirement already satisfied: charset-normalizer~=2.0.0 in d:\\akshaya\\annnnacoonda\\lib\\site-packages (from requests->torchvision) (2.0.4)\n",
      "Requirement already satisfied: mpmath>=0.19 in d:\\akshaya\\annnnacoonda\\lib\\site-packages (from sympy->torch) (1.2.1)\n"
     ]
    }
   ],
   "source": [
    "!pip install torch torchvision torchaudio --index-url https://download.pytorch.org/whl/cu117"
   ]
  },
  {
   "cell_type": "code",
   "execution_count": 4,
   "id": "5abc5c78",
   "metadata": {},
   "outputs": [
    {
     "name": "stdout",
     "output_type": "stream",
     "text": [
      "Requirement already satisfied: transformers in d:\\akshaya\\annnnacoonda\\lib\\site-packages (4.31.0)\n",
      "Requirement already satisfied: requests in d:\\akshaya\\annnnacoonda\\lib\\site-packages (2.27.1)\n",
      "Requirement already satisfied: beautifulsoup4 in d:\\akshaya\\annnnacoonda\\lib\\site-packages (4.11.1)\n",
      "Requirement already satisfied: pandas in d:\\akshaya\\annnnacoonda\\lib\\site-packages (1.4.2)\n",
      "Requirement already satisfied: numpy in d:\\akshaya\\annnnacoonda\\lib\\site-packages (1.21.5)\n",
      "Requirement already satisfied: pyyaml>=5.1 in d:\\akshaya\\annnnacoonda\\lib\\site-packages (from transformers) (6.0)\n",
      "Requirement already satisfied: regex!=2019.12.17 in d:\\akshaya\\annnnacoonda\\lib\\site-packages (from transformers) (2022.3.15)\n",
      "Requirement already satisfied: packaging>=20.0 in d:\\akshaya\\annnnacoonda\\lib\\site-packages (from transformers) (21.3)\n",
      "Requirement already satisfied: safetensors>=0.3.1 in d:\\akshaya\\annnnacoonda\\lib\\site-packages (from transformers) (0.3.1)\n",
      "Requirement already satisfied: tokenizers!=0.11.3,<0.14,>=0.11.1 in d:\\akshaya\\annnnacoonda\\lib\\site-packages (from transformers) (0.13.3)\n",
      "Requirement already satisfied: filelock in d:\\akshaya\\annnnacoonda\\lib\\site-packages (from transformers) (3.6.0)\n",
      "Requirement already satisfied: tqdm>=4.27 in d:\\akshaya\\annnnacoonda\\lib\\site-packages (from transformers) (4.64.0)\n",
      "Requirement already satisfied: huggingface-hub<1.0,>=0.14.1 in d:\\akshaya\\annnnacoonda\\lib\\site-packages (from transformers) (0.16.4)\n",
      "Requirement already satisfied: charset-normalizer~=2.0.0 in d:\\akshaya\\annnnacoonda\\lib\\site-packages (from requests) (2.0.4)\n",
      "Requirement already satisfied: urllib3<1.27,>=1.21.1 in d:\\akshaya\\annnnacoonda\\lib\\site-packages (from requests) (1.26.9)\n",
      "Requirement already satisfied: certifi>=2017.4.17 in d:\\akshaya\\annnnacoonda\\lib\\site-packages (from requests) (2021.10.8)\n",
      "Requirement already satisfied: idna<4,>=2.5 in d:\\akshaya\\annnnacoonda\\lib\\site-packages (from requests) (3.3)\n",
      "Requirement already satisfied: soupsieve>1.2 in d:\\akshaya\\annnnacoonda\\lib\\site-packages (from beautifulsoup4) (2.3.1)\n",
      "Requirement already satisfied: pytz>=2020.1 in d:\\akshaya\\annnnacoonda\\lib\\site-packages (from pandas) (2021.3)\n",
      "Requirement already satisfied: python-dateutil>=2.8.1 in d:\\akshaya\\annnnacoonda\\lib\\site-packages (from pandas) (2.8.2)\n",
      "Requirement already satisfied: typing-extensions>=3.7.4.3 in d:\\akshaya\\annnnacoonda\\lib\\site-packages (from huggingface-hub<1.0,>=0.14.1->transformers) (4.1.1)\n",
      "Requirement already satisfied: fsspec in d:\\akshaya\\annnnacoonda\\lib\\site-packages (from huggingface-hub<1.0,>=0.14.1->transformers) (2022.2.0)\n",
      "Requirement already satisfied: pyparsing!=3.0.5,>=2.0.2 in d:\\akshaya\\annnnacoonda\\lib\\site-packages (from packaging>=20.0->transformers) (3.0.4)\n",
      "Requirement already satisfied: six>=1.5 in d:\\akshaya\\annnnacoonda\\lib\\site-packages (from python-dateutil>=2.8.1->pandas) (1.16.0)\n",
      "Requirement already satisfied: colorama in d:\\akshaya\\annnnacoonda\\lib\\site-packages (from tqdm>=4.27->transformers) (0.4.4)\n"
     ]
    }
   ],
   "source": [
    "!pip install transformers requests beautifulsoup4 pandas numpy"
   ]
  },
  {
   "cell_type": "code",
   "execution_count": 5,
   "id": "6edfb3c8",
   "metadata": {},
   "outputs": [],
   "source": [
    "from transformers import AutoTokenizer, AutoModelForSequenceClassification\n",
    "import re\n",
    "import torch\n",
    "import requests\n",
    "from bs4 import BeautifulSoup"
   ]
  },
  {
   "cell_type": "markdown",
   "id": "6c116057",
   "metadata": {},
   "source": [
    "# 2. Instantiate Model"
   ]
  },
  {
   "cell_type": "code",
   "execution_count": 14,
   "id": "7034d3e5",
   "metadata": {},
   "outputs": [],
   "source": [
    "tokenizer = AutoTokenizer.from_pretrained('nlptown/bert-base-multilingual-uncased-sentiment')\n",
    "\n",
    "model = AutoModelForSequenceClassification.from_pretrained('nlptown/bert-base-multilingual-uncased-sentiment')"
   ]
  },
  {
   "cell_type": "markdown",
   "id": "e228573a",
   "metadata": {},
   "source": [
    "# 3. Encode and Calculate Sentiment"
   ]
  },
  {
   "cell_type": "code",
   "execution_count": 24,
   "id": "9c0a9093",
   "metadata": {},
   "outputs": [],
   "source": [
    "tokens = tokenizer.encode('This is amazing, I love it. GREAT!', return_tensors='pt')"
   ]
  },
  {
   "cell_type": "code",
   "execution_count": 25,
   "id": "c6fa0ec4",
   "metadata": {},
   "outputs": [],
   "source": [
    "#tokens[0]"
   ]
  },
  {
   "cell_type": "code",
   "execution_count": 26,
   "id": "902e92d8",
   "metadata": {},
   "outputs": [],
   "source": [
    "#tokenizer.decode(tokens[0])"
   ]
  },
  {
   "cell_type": "code",
   "execution_count": 27,
   "id": "13668b6b",
   "metadata": {},
   "outputs": [],
   "source": [
    "result = model(tokens)"
   ]
  },
  {
   "cell_type": "code",
   "execution_count": 28,
   "id": "1cfd9915",
   "metadata": {},
   "outputs": [
    {
     "data": {
      "text/plain": [
       "SequenceClassifierOutput(loss=None, logits=tensor([[-2.4825, -2.9365, -1.5084,  1.3381,  4.5352]],\n",
       "       grad_fn=<AddmmBackward0>), hidden_states=None, attentions=None)"
      ]
     },
     "execution_count": 28,
     "metadata": {},
     "output_type": "execute_result"
    }
   ],
   "source": [
    "result"
   ]
  },
  {
   "cell_type": "code",
   "execution_count": 29,
   "id": "a0daac4c",
   "metadata": {},
   "outputs": [
    {
     "data": {
      "text/plain": [
       "tensor([[-2.4825, -2.9365, -1.5084,  1.3381,  4.5352]],\n",
       "       grad_fn=<AddmmBackward0>)"
      ]
     },
     "execution_count": 29,
     "metadata": {},
     "output_type": "execute_result"
    }
   ],
   "source": [
    "result.logits"
   ]
  },
  {
   "cell_type": "code",
   "execution_count": 30,
   "id": "7106982a",
   "metadata": {},
   "outputs": [
    {
     "data": {
      "text/plain": [
       "tensor(4)"
      ]
     },
     "execution_count": 30,
     "metadata": {},
     "output_type": "execute_result"
    }
   ],
   "source": [
    "torch.argmax(result.logits) #specifies the highest value"
   ]
  },
  {
   "cell_type": "code",
   "execution_count": 31,
   "id": "e2c17e90",
   "metadata": {},
   "outputs": [
    {
     "data": {
      "text/plain": [
       "5"
      ]
     },
     "execution_count": 31,
     "metadata": {},
     "output_type": "execute_result"
    }
   ],
   "source": [
    "int(torch.argmax(result.logits))+1"
   ]
  },
  {
   "cell_type": "markdown",
   "id": "752df272",
   "metadata": {},
   "source": [
    "# 4. Collect Reviews"
   ]
  },
  {
   "cell_type": "code",
   "execution_count": 36,
   "id": "a5a77876",
   "metadata": {},
   "outputs": [],
   "source": [
    "r= requests.get('http://www.yelp.com/biz/mejico-sydney-2')\n",
    "soup= BeautifulSoup(r.text, 'html.parser')\n",
    "regex=re.compile('.*comment.*')\n",
    "results=soup.find_all('p',{'class':regex})\n",
    "reviews=[result.text for result in results ]"
   ]
  },
  {
   "cell_type": "code",
   "execution_count": 37,
   "id": "3d00fbcd",
   "metadata": {},
   "outputs": [
    {
     "data": {
      "text/plain": [
       "'Hotter than I imagine myself to be and firing up the flaming ring this place packs a firey heat punch with a delicious dolls mexican fusion. Pants free or margarita mash this is the place to explore.'"
      ]
     },
     "execution_count": 37,
     "metadata": {},
     "output_type": "execute_result"
    }
   ],
   "source": [
    "results[0].text"
   ]
  },
  {
   "cell_type": "code",
   "execution_count": 39,
   "id": "1066f8b2",
   "metadata": {},
   "outputs": [
    {
     "data": {
      "text/plain": [
       "'Visiting from Texas and decided to give this restaurant a try. \\xa0We were pleasantly surprised. \\xa0While the margaritas are more like martinis, the food was excellent. \\xa0More like a tapas, Mexican fusion. \\xa0Great way to try different plates.The real treat was Chelsea, our waitress. \\xa0Took the time to explain the menu and offer suggestions. \\xa0Always smiling and very pleasant. \\xa0Best service we have had in Sydney!'"
      ]
     },
     "execution_count": 39,
     "metadata": {},
     "output_type": "execute_result"
    }
   ],
   "source": [
    "reviews[2]"
   ]
  },
  {
   "cell_type": "markdown",
   "id": "72517ac2",
   "metadata": {},
   "source": [
    "# 5. Load reviews into DataFrame "
   ]
  },
  {
   "cell_type": "code",
   "execution_count": 40,
   "id": "50a7374e",
   "metadata": {},
   "outputs": [],
   "source": [
    "import pandas as pd\n",
    "import numpy as np"
   ]
  },
  {
   "cell_type": "code",
   "execution_count": 42,
   "id": "6757f15b",
   "metadata": {},
   "outputs": [],
   "source": [
    "df=pd.DataFrame(np.array(reviews),columns=['review'])"
   ]
  },
  {
   "cell_type": "code",
   "execution_count": 44,
   "id": "3573a175",
   "metadata": {},
   "outputs": [
    {
     "data": {
      "text/html": [
       "<div>\n",
       "<style scoped>\n",
       "    .dataframe tbody tr th:only-of-type {\n",
       "        vertical-align: middle;\n",
       "    }\n",
       "\n",
       "    .dataframe tbody tr th {\n",
       "        vertical-align: top;\n",
       "    }\n",
       "\n",
       "    .dataframe thead th {\n",
       "        text-align: right;\n",
       "    }\n",
       "</style>\n",
       "<table border=\"1\" class=\"dataframe\">\n",
       "  <thead>\n",
       "    <tr style=\"text-align: right;\">\n",
       "      <th></th>\n",
       "      <th>review</th>\n",
       "    </tr>\n",
       "  </thead>\n",
       "  <tbody>\n",
       "    <tr>\n",
       "      <th>0</th>\n",
       "      <td>Hotter than I imagine myself to be and firing ...</td>\n",
       "    </tr>\n",
       "    <tr>\n",
       "      <th>1</th>\n",
       "      <td>The food and service here was really good.  It...</td>\n",
       "    </tr>\n",
       "    <tr>\n",
       "      <th>2</th>\n",
       "      <td>Visiting from Texas and decided to give this r...</td>\n",
       "    </tr>\n",
       "    <tr>\n",
       "      <th>3</th>\n",
       "      <td>Great atmosphere, attentive service, solid mar...</td>\n",
       "    </tr>\n",
       "    <tr>\n",
       "      <th>4</th>\n",
       "      <td>Don't come here expecting legit Mexican food b...</td>\n",
       "    </tr>\n",
       "  </tbody>\n",
       "</table>\n",
       "</div>"
      ],
      "text/plain": [
       "                                              review\n",
       "0  Hotter than I imagine myself to be and firing ...\n",
       "1  The food and service here was really good.  It...\n",
       "2  Visiting from Texas and decided to give this r...\n",
       "3  Great atmosphere, attentive service, solid mar...\n",
       "4  Don't come here expecting legit Mexican food b..."
      ]
     },
     "execution_count": 44,
     "metadata": {},
     "output_type": "execute_result"
    }
   ],
   "source": [
    "df.head()"
   ]
  },
  {
   "cell_type": "code",
   "execution_count": 45,
   "id": "4800f080",
   "metadata": {},
   "outputs": [
    {
     "data": {
      "text/plain": [
       "review    Hotter than I imagine myself to be and firing ...\n",
       "Name: 0, dtype: object"
      ]
     },
     "execution_count": 45,
     "metadata": {},
     "output_type": "execute_result"
    }
   ],
   "source": [
    "df.iloc[0]"
   ]
  },
  {
   "cell_type": "code",
   "execution_count": 46,
   "id": "98c8dd7f",
   "metadata": {},
   "outputs": [],
   "source": [
    "def sentiment_score(review):\n",
    "    tokens = tokenizer.encode(review, return_tensors='pt')\n",
    "    result = model(tokens)\n",
    "    return int(torch.argmax(result.logits))+1"
   ]
  },
  {
   "cell_type": "code",
   "execution_count": 47,
   "id": "f2bc696b",
   "metadata": {},
   "outputs": [
    {
     "data": {
      "text/plain": [
       "5"
      ]
     },
     "execution_count": 47,
     "metadata": {},
     "output_type": "execute_result"
    }
   ],
   "source": [
    "sentiment_score(df['review'].iloc[0])"
   ]
  },
  {
   "cell_type": "code",
   "execution_count": 50,
   "id": "cd5a41da",
   "metadata": {},
   "outputs": [],
   "source": [
    "df['sentiment']=df['review'].apply(lambda x:sentiment_score(x[:512]))"
   ]
  },
  {
   "cell_type": "code",
   "execution_count": 51,
   "id": "83fbd244",
   "metadata": {},
   "outputs": [
    {
     "data": {
      "text/plain": [
       "0    Hotter than I imagine myself to be and firing ...\n",
       "1    The food and service here was really good.  It...\n",
       "2    Visiting from Texas and decided to give this r...\n",
       "3    Great atmosphere, attentive service, solid mar...\n",
       "4    Don't come here expecting legit Mexican food b...\n",
       "5    Out of all the restaurants that I tried in Syd...\n",
       "6    We came here on a Thursday night @ 5pm and by ...\n",
       "7    The food is fresh and tasty.  The scallop cevi...\n",
       "8    Have been here twice and have absolutely loved...\n",
       "9    I was pleasantly surprised at what a great job...\n",
       "Name: review, dtype: object"
      ]
     },
     "execution_count": 51,
     "metadata": {},
     "output_type": "execute_result"
    }
   ],
   "source": [
    "df['review']"
   ]
  },
  {
   "cell_type": "code",
   "execution_count": 52,
   "id": "13426f51",
   "metadata": {},
   "outputs": [
    {
     "data": {
      "text/html": [
       "<div>\n",
       "<style scoped>\n",
       "    .dataframe tbody tr th:only-of-type {\n",
       "        vertical-align: middle;\n",
       "    }\n",
       "\n",
       "    .dataframe tbody tr th {\n",
       "        vertical-align: top;\n",
       "    }\n",
       "\n",
       "    .dataframe thead th {\n",
       "        text-align: right;\n",
       "    }\n",
       "</style>\n",
       "<table border=\"1\" class=\"dataframe\">\n",
       "  <thead>\n",
       "    <tr style=\"text-align: right;\">\n",
       "      <th></th>\n",
       "      <th>review</th>\n",
       "      <th>sentiment</th>\n",
       "    </tr>\n",
       "  </thead>\n",
       "  <tbody>\n",
       "    <tr>\n",
       "      <th>0</th>\n",
       "      <td>Hotter than I imagine myself to be and firing ...</td>\n",
       "      <td>5</td>\n",
       "    </tr>\n",
       "    <tr>\n",
       "      <th>1</th>\n",
       "      <td>The food and service here was really good.  It...</td>\n",
       "      <td>5</td>\n",
       "    </tr>\n",
       "    <tr>\n",
       "      <th>2</th>\n",
       "      <td>Visiting from Texas and decided to give this r...</td>\n",
       "      <td>5</td>\n",
       "    </tr>\n",
       "    <tr>\n",
       "      <th>3</th>\n",
       "      <td>Great atmosphere, attentive service, solid mar...</td>\n",
       "      <td>3</td>\n",
       "    </tr>\n",
       "    <tr>\n",
       "      <th>4</th>\n",
       "      <td>Don't come here expecting legit Mexican food b...</td>\n",
       "      <td>3</td>\n",
       "    </tr>\n",
       "    <tr>\n",
       "      <th>5</th>\n",
       "      <td>Out of all the restaurants that I tried in Syd...</td>\n",
       "      <td>5</td>\n",
       "    </tr>\n",
       "    <tr>\n",
       "      <th>6</th>\n",
       "      <td>We came here on a Thursday night @ 5pm and by ...</td>\n",
       "      <td>4</td>\n",
       "    </tr>\n",
       "    <tr>\n",
       "      <th>7</th>\n",
       "      <td>The food is fresh and tasty.  The scallop cevi...</td>\n",
       "      <td>4</td>\n",
       "    </tr>\n",
       "    <tr>\n",
       "      <th>8</th>\n",
       "      <td>Have been here twice and have absolutely loved...</td>\n",
       "      <td>5</td>\n",
       "    </tr>\n",
       "    <tr>\n",
       "      <th>9</th>\n",
       "      <td>I was pleasantly surprised at what a great job...</td>\n",
       "      <td>5</td>\n",
       "    </tr>\n",
       "  </tbody>\n",
       "</table>\n",
       "</div>"
      ],
      "text/plain": [
       "                                              review  sentiment\n",
       "0  Hotter than I imagine myself to be and firing ...          5\n",
       "1  The food and service here was really good.  It...          5\n",
       "2  Visiting from Texas and decided to give this r...          5\n",
       "3  Great atmosphere, attentive service, solid mar...          3\n",
       "4  Don't come here expecting legit Mexican food b...          3\n",
       "5  Out of all the restaurants that I tried in Syd...          5\n",
       "6  We came here on a Thursday night @ 5pm and by ...          4\n",
       "7  The food is fresh and tasty.  The scallop cevi...          4\n",
       "8  Have been here twice and have absolutely loved...          5\n",
       "9  I was pleasantly surprised at what a great job...          5"
      ]
     },
     "execution_count": 52,
     "metadata": {},
     "output_type": "execute_result"
    }
   ],
   "source": [
    "df"
   ]
  },
  {
   "cell_type": "code",
   "execution_count": null,
   "id": "c36669a8",
   "metadata": {},
   "outputs": [],
   "source": []
  }
 ],
 "metadata": {
  "kernelspec": {
   "display_name": "Python 3 (ipykernel)",
   "language": "python",
   "name": "python3"
  },
  "language_info": {
   "codemirror_mode": {
    "name": "ipython",
    "version": 3
   },
   "file_extension": ".py",
   "mimetype": "text/x-python",
   "name": "python",
   "nbconvert_exporter": "python",
   "pygments_lexer": "ipython3",
   "version": "3.9.12"
  }
 },
 "nbformat": 4,
 "nbformat_minor": 5
}
